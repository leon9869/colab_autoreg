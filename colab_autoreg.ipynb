<<<<<<< HEAD
{"nbformat":4,"nbformat_minor":0,"metadata":{"colab":{"provenance":[],"collapsed_sections":[],"authorship_tag":"ABX9TyNSfaokQntjnYdLERK4pFW6"},"kernelspec":{"name":"python3","display_name":"Python 3"},"language_info":{"name":"python"}},"cells":[{"cell_type":"markdown","source":["# **Installing required packages for the programs**\n"],"metadata":{"id":"su8oZ5zVZlgX"}},{"cell_type":"code","execution_count":null,"metadata":{"id":"ZB8xUb-vTvB4","executionInfo":{"status":"ok","timestamp":1663249210356,"user_tz":-480,"elapsed":2,"user":{"displayName":"Leon Lam","userId":"08178159724153421806"}}},"outputs":[],"source":["!pip install typing_extensions\n","!pip install cx_Freeze\n","!pip install Selenium"]}]}
=======
{
  "nbformat": 4,
  "nbformat_minor": 0,
  "metadata": {
    "colab": {
      "provenance": [],
      "collapsed_sections": [],
      "authorship_tag": "ABX9TyMoSCq990edqj1ws066Tq3+",
      "include_colab_link": true
    },
    "kernelspec": {
      "name": "python3",
      "display_name": "Python 3"
    },
    "language_info": {
      "name": "python"
    }
  },
  "cells": [
    {
      "cell_type": "markdown",
      "metadata": {
        "id": "view-in-github",
        "colab_type": "text"
      },
      "source": [
        "<a href=\"https://colab.research.google.com/github/leon9869/colab_autoreg/blob/master/colab_autoreg.ipynb\" target=\"_parent\"><img src=\"https://colab.research.google.com/assets/colab-badge.svg\" alt=\"Open In Colab\"/></a>"
      ]
    },
    {
      "cell_type": "code",
      "execution_count": null,
      "metadata": {
        "id": "ZB8xUb-vTvB4"
      },
      "outputs": [],
      "source": [
        "fefjioue"
      ]
    }
  ]
}
>>>>>>> 0eddf73ce6b6fd0f4c830d29dd33ff3d71a13d85
